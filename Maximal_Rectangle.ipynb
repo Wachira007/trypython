{
 "cells": [
  {
   "cell_type": "code",
   "execution_count": null,
   "metadata": {},
   "outputs": [],
   "source": []
  },
  {
   "cell_type": "markdown",
   "metadata": {},
   "source": [
    "Maximal Rectangle function\n",
    "This finds the maximum area of a rectangle in a binary matrix that fois comprised of 1s only  "
   ]
  },
  {
   "cell_type": "code",
   "execution_count": 8,
   "metadata": {},
   "outputs": [
    {
     "name": "stdout",
     "output_type": "stream",
     "text": [
      "None\n"
     ]
    }
   ],
   "source": [
    "def MaximalRectangle(strArr):\n",
    "    if not strArr:\n",
    "        return strArr\n",
    "    \n",
    "    matrix = [[int(c) for c in row] for row in strArr] #2D array\n",
    "    m, n = len(matrix), len(matrix[0])  \n",
    "\n",
    "    def largestRectangleArea(heights):\n",
    "        stack = []\n",
    "        max_area = 0\n",
    "        heights.append(0)\n",
    "        \n",
    "        for i in range(len(heights)):\n",
    "            while stack and heights[i] < heights[stack[-1]]:\n",
    "                h = heights[stack.pop()]\n",
    "                w = i if not stack else i - stack[-1] - 1\n",
    "                max_area = max(max_area, h * w)\n",
    "            stack.append(i)\n",
    "        \n",
    "        heights.pop() \n",
    "        return max_area\n",
    "\n",
    "    def maximalRectangle(matrix):\n",
    "        # calculate the maximum area of a rectangle in a histogram\n",
    "        if not matrix:\n",
    "            return 0\n",
    "\n",
    "        m, n = len(matrix), len(matrix[0])\n",
    "        heights = [0] * n\n",
    "        max_area = 0\n",
    "\n",
    "        for i in range(m):\n",
    "            for j in range(n):\n",
    "                if matrix[i][j] == 1:\n",
    "                    heights[j] += 1\n",
    "                else:\n",
    "                    heights[j] = 0\n",
    "\n",
    "            max_area = max(max_area, largestRectangleArea(heights))\n",
    "\n",
    "        print(max_area)\n",
    "    \n",
    "        return max_area\n",
    "        \n",
    "    \n",
    "   # print(maximalRectangle(matrix))\n",
    "\n",
    "print(MaximalRectangle([\"10100\", \"10111\", \"11111\", \"10010\"])) "
   ]
  }
 ],
 "metadata": {
  "kernelspec": {
   "display_name": "Python 3",
   "language": "python",
   "name": "python3"
  },
  "language_info": {
   "codemirror_mode": {
    "name": "ipython",
    "version": 3
   },
   "file_extension": ".py",
   "mimetype": "text/x-python",
   "name": "python",
   "nbconvert_exporter": "python",
   "pygments_lexer": "ipython3",
   "version": "3.10.7"
  }
 },
 "nbformat": 4,
 "nbformat_minor": 2
}
